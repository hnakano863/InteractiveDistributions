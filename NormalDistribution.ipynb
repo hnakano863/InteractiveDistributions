{
 "cells": [
  {
   "cell_type": "markdown",
   "metadata": {},
   "source": [
    "# 正規分布をいじくり倒す"
   ]
  },
  {
   "cell_type": "code",
   "execution_count": null,
   "metadata": {},
   "outputs": [],
   "source": [
    "using WebIO\n",
    "\n",
    "WebIO.install_jupyter_nbextension()"
   ]
  },
  {
   "cell_type": "code",
   "execution_count": 1,
   "metadata": {},
   "outputs": [
    {
     "name": "stderr",
     "output_type": "stream",
     "text": [
      "┌ Info: Precompiling Distributions [31c24e10-a181-5473-b8eb-7969acd0382f]\n",
      "└ @ Base loading.jl:1273\n",
      "┌ Info: Precompiling Plots [91a5bcdd-55d7-5caf-9e0b-520d859cae80]\n",
      "└ @ Base loading.jl:1273\n",
      "┌ Info: Precompiling Interact [c601a237-2ae4-5e1e-952c-7a85b0c7eef1]\n",
      "└ @ Base loading.jl:1273\n"
     ]
    },
    {
     "data": {
      "text/html": [
       "<script>\n",
       "// Immediately-invoked-function-expression to avoid global variables.\n",
       "(function() {\n",
       "    var warning_div = document.getElementById(\"webio-warning-8330355193915829072\");\n",
       "    var hide = function () {\n",
       "        var script = document.getElementById(\"webio-setup-14699984557457192015\");\n",
       "        var parent = script && script.parentElement;\n",
       "        var grandparent = parent && parent.parentElement;\n",
       "        if (grandparent) {\n",
       "            grandparent.style.display = \"none\";\n",
       "        }\n",
       "        warning_div.style.display = \"none\";\n",
       "    };\n",
       "    if (typeof Jupyter !== \"undefined\") {\n",
       "        console.log(\"WebIO detected Jupyter notebook environment.\");\n",
       "        // Jupyter notebook.\n",
       "        var extensions = (\n",
       "            Jupyter\n",
       "            && Jupyter.notebook.config.data\n",
       "            && Jupyter.notebook.config.data.load_extensions\n",
       "        );\n",
       "        if (extensions && extensions[\"webio-jupyter-notebook\"]) {\n",
       "            // Extension already loaded.\n",
       "            console.log(\"Jupyter WebIO nbextension detected; not loading ad-hoc.\");\n",
       "            hide();\n",
       "            return;\n",
       "        }\n",
       "    } else if (window.location.pathname.includes(\"/lab\")) {\n",
       "        // Guessing JupyterLa\n",
       "        console.log(\"Jupyter Lab detected; make sure the @webio/jupyter-lab-provider labextension is installed.\");\n",
       "        hide();\n",
       "        return;\n",
       "    }\n",
       "})();\n",
       "\n",
       "</script>\n",
       "<p\n",
       "    id=\"webio-warning-8330355193915829072\"\n",
       "    class=\"output_text output_stderr\"\n",
       "    style=\"padding: 1em; font-weight: bold;\"\n",
       ">\n",
       "    Unable to load WebIO. Please make sure WebIO works for your Jupyter client.\n",
       "    For troubleshooting, please see <a href=\"https://juliagizmos.github.io/WebIO.jl/latest/providers/ijulia/\">\n",
       "    the WebIO/IJulia documentation</a>.\n",
       "    <!-- TODO: link to installation docs. -->\n",
       "</p>\n"
      ],
      "text/plain": [
       "HTML{String}(\"<script>\\n// Immediately-invoked-function-expression to avoid global variables.\\n(function() {\\n    var warning_div = document.getElementById(\\\"webio-warning-8330355193915829072\\\");\\n    var hide = function () {\\n        var script = document.getElementById(\\\"webio-setup-14699984557457192015\\\");\\n        var parent = script && script.parentElement;\\n        var grandparent = parent && parent.parentElement;\\n        if (grandparent) {\\n            grandparent.style.display = \\\"none\\\";\\n        }\\n        warning_div.style.display = \\\"none\\\";\\n    };\\n    if (typeof Jupyter !== \\\"undefined\\\") {\\n        console.log(\\\"WebIO detected Jupyter notebook environment.\\\");\\n        // Jupyter notebook.\\n        var extensions = (\\n            Jupyter\\n            && Jupyter.notebook.config.data\\n            && Jupyter.notebook.config.data.load_extensions\\n        );\\n        if (extensions && extensions[\\\"webio-jupyter-notebook\\\"]) {\\n            // Extension already loaded.\\n            console.log(\\\"Jupyter WebIO nbextension detected; not loading ad-hoc.\\\");\\n            hide();\\n            return;\\n        }\\n    } else if (window.location.pathname.includes(\\\"/lab\\\")) {\\n        // Guessing JupyterLa\\n        console.log(\\\"Jupyter Lab detected; make sure the @webio/jupyter-lab-provider labextension is installed.\\\");\\n        hide();\\n        return;\\n    }\\n})();\\n\\n</script>\\n<p\\n    id=\\\"webio-warning-8330355193915829072\\\"\\n    class=\\\"output_text output_stderr\\\"\\n    style=\\\"padding: 1em; font-weight: bold;\\\"\\n>\\n    Unable to load WebIO. Please make sure WebIO works for your Jupyter client.\\n    For troubleshooting, please see <a href=\\\"https://juliagizmos.github.io/WebIO.jl/latest/providers/ijulia/\\\">\\n    the WebIO/IJulia documentation</a>.\\n    <!-- TODO: link to installation docs. -->\\n</p>\\n\")"
      ]
     },
     "metadata": {},
     "output_type": "display_data"
    },
    {
     "name": "stderr",
     "output_type": "stream",
     "text": [
      "┌ Warning: Accessing `scope.id` is deprecated, use `scopeid(scope)` instead.\n",
      "│   caller = ip:0x0\n",
      "└ @ Core :-1\n"
     ]
    },
    {
     "ename": "ErrorException",
     "evalue": "Invalid dependency (must be a url, file, or AssetRegistry path): /home/hnakano/.julia/packages/Knockout/IP1uR/src/../assets/knockout.js",
     "output_type": "error",
     "traceback": [
      "Invalid dependency (must be a url, file, or AssetRegistry path): /home/hnakano/.julia/packages/Knockout/IP1uR/src/../assets/knockout.js",
      "",
      "Stacktrace:",
      " [1] error(::String) at ./error.jl:33",
      " [2] path2url(::SubString{String}) at /home/hnakano/.julia/packages/WebIO/2mZPb/src/asset.jl:209",
      " [3] dep2url(::String) at /home/hnakano/.julia/packages/WebIO/2mZPb/src/asset.jl:226",
      " [4] lower(::Asset) at /home/hnakano/.julia/packages/WebIO/2mZPb/src/asset.jl:51",
      " [5] lowerassets(::Asset) at /home/hnakano/.julia/packages/WebIO/2mZPb/src/asset.jl:118",
      " [6] iterate at ./generator.jl:47 [inlined]",
      " [7] _collect(::Array{Any,1}, ::Base.Generator{Array{Any,1},typeof(WebIO.lowerassets)}, ::Base.EltypeUnknown, ::Base.HasShape{1}) at ./array.jl:635",
      " [8] collect_similar(::Array{Any,1}, ::Base.Generator{Array{Any,1},typeof(WebIO.lowerassets)}) at ./array.jl:564",
      " [9] map(::Function, ::Array{Any,1}) at ./abstractarray.jl:2073",
      " [10] lowerassets(::Async) at /home/hnakano/.julia/packages/WebIO/2mZPb/src/asset.jl:119",
      " [11] (::WebIO.var\"#23#24\"{Async})(::Base.GenericIOBuffer{Array{UInt8,1}}) at /home/hnakano/.julia/packages/WebIO/2mZPb/src/syntax.jl:221",
      " [12] #sprint#339(::Nothing, ::Int64, ::typeof(sprint), ::Function) at ./strings/io.jl:105",
      " [13] sprint at ./strings/io.jl:101 [inlined]",
      " [14] tojs at /home/hnakano/.julia/packages/WebIO/2mZPb/src/asset.jl:112 [inlined]",
      " [15] (::WebIO.var\"#42#43\"{Scope,WebIO.JSString})(::Base.GenericIOBuffer{Array{UInt8,1}}) at /home/hnakano/.julia/packages/WebIO/2mZPb/src/syntax.jl:221",
      " [16] #sprint#339(::Nothing, ::Int64, ::typeof(sprint), ::Function) at ./strings/io.jl:105",
      " [17] sprint at ./strings/io.jl:101 [inlined]",
      " [18] onimport at /home/hnakano/.julia/packages/WebIO/2mZPb/src/scope.jl:313 [inlined]",
      " [19] #knockout#1(::Array{Pair{String,WebIO.JSString},1}, ::Array{Any,1}, ::typeof(knockout), ::Node{WebIO.DOM}, ::Array{Pair{String,Any},1}, ::WebIO.JSString) at /home/hnakano/.julia/packages/Knockout/IP1uR/src/Knockout.jl:124",
      " [20] #knockout at ./none:0 [inlined]",
      " [21] #input#47(::WebIO.JSString, ::Array{Pair{String,Array{String,1}},1}, ::Nothing, ::String, ::String, ::String, ::Dict{Any,Any}, ::Bool, ::Array{Pair{String,WebIO.JSString},1}, ::Dict{Any,Any}, ::String, ::String, ::String, ::Int64, ::Base.Iterators.Pairs{Symbol,Int64,Tuple{Symbol,Symbol,Symbol},NamedTuple{(:min, :max, :step),Tuple{Int64,Int64,Int64}}}, ::typeof(input), ::Interact.Bulma, ::Observable{Any}) at /home/hnakano/.julia/packages/InteractBase/NMcus/src/input.jl:259",
      " [22] (::Widgets.var\"#kw##input\")(::NamedTuple{(:bindto, :attributes, :extra_obs, :computed, :typ, :min, :max, :step, :className),Tuple{String,Dict{Any,Any},Array{Pair{String,Array{String,1}},1},Array{Pair{String,WebIO.JSString},1},String,Int64,Int64,Int64,String}}, ::typeof(input), ::Interact.Bulma, ::Observable{Any}) at ./none:0",
      " [23] #input#40(::Base.Iterators.Pairs{Symbol,Any,NTuple{9,Symbol},NamedTuple{(:bindto, :attributes, :extra_obs, :computed, :typ, :min, :max, :step, :className),Tuple{String,Dict{Any,Any},Array{Pair{String,Array{String,1}},1},Array{Pair{String,WebIO.JSString},1},String,Int64,Int64,Int64,String}}}, ::typeof(input), ::Observable{Any}) at /home/hnakano/.julia/packages/Widgets/451tD/src/defaults.jl:10",
      " [24] (::Widgets.var\"#kw##input\")(::NamedTuple{(:bindto, :attributes, :extra_obs, :computed, :typ, :min, :max, :step, :className),Tuple{String,Dict{Any,Any},Array{Pair{String,Array{String,1}},1},Array{Pair{String,WebIO.JSString},1},String,Int64,Int64,Int64,String}}, ::typeof(input), ::Observable{Any}) at ./none:0",
      " [25] #slider#81(::String, ::Bool, ::String, ::Observable{Any}, ::String, ::Dict{Any,Any}, ::Base.Iterators.Pairs{Union{},Union{},Tuple{},NamedTuple{(),Tuple{}}}, ::typeof(slider), ::Interact.Bulma, ::Base.OneTo{Int64}, ::Array{String,1}) at /home/hnakano/.julia/packages/InteractBase/NMcus/src/slider.jl:58",
      " [26] (::Widgets.var\"#kw##slider\")(::NamedTuple{(:value, :label),Tuple{Observable{Any},String}}, ::typeof(slider), ::Interact.Bulma, ::Base.OneTo{Int64}, ::Array{String,1}) at ./none:0",
      " [27] #slider#74(::Float64, ::Base.Iterators.Pairs{Symbol,String,Tuple{Symbol},NamedTuple{(:label,),Tuple{String}}}, ::typeof(slider), ::Interact.Bulma, ::StepRangeLen{Float64,Base.TwicePrecision{Float64},Base.TwicePrecision{Float64}}, ::Array{String,1}) at /home/hnakano/.julia/packages/InteractBase/NMcus/src/slider.jl:28",
      " [28] (::Widgets.var\"#kw##slider\")(::NamedTuple{(:label,),Tuple{String}}, ::typeof(slider), ::Interact.Bulma, ::StepRangeLen{Float64,Base.TwicePrecision{Float64},Base.TwicePrecision{Float64}}, ::Array{String,1}) at ./none:0",
      " [29] (::Widgets.var\"#kw##slider\")(::NamedTuple{(:label,),Tuple{String}}, ::typeof(slider), ::Interact.Bulma, ::StepRangeLen{Float64,Base.TwicePrecision{Float64},Base.TwicePrecision{Float64}}) at ./simdloop.jl:0",
      " [30] #slider#56(::Base.Iterators.Pairs{Symbol,String,Tuple{Symbol},NamedTuple{(:label,),Tuple{String}}}, ::typeof(slider), ::StepRangeLen{Float64,Base.TwicePrecision{Float64},Base.TwicePrecision{Float64}}) at /home/hnakano/.julia/packages/Widgets/451tD/src/defaults.jl:10",
      " [31] (::Widgets.var\"#kw##slider\")(::NamedTuple{(:label,),Tuple{String}}, ::typeof(slider), ::StepRangeLen{Float64,Base.TwicePrecision{Float64},Base.TwicePrecision{Float64}}) at ./none:0",
      " [32] normaldist_picker() at ./In[1]:6",
      " [33] top-level scope at In[1]:15"
     ]
    }
   ],
   "source": [
    "using Distributions, Plots, Interact\n",
    "\n",
    "function normaldist_picker()\n",
    "    \n",
    "    # 正規分布を定義\n",
    "    μ = slider(-3:0.1:3, label = \"平均: μ\")\n",
    "    σ = slider(0:0.1:10, label = \"標準偏差: σ\")\n",
    "    正規分布 = Interact.@map Normal(&μ, &σ)\n",
    "    \n",
    "    xs = -5:0.1:5\n",
    "    ys = Interact.@map pdf.(Ref(正規分布), xs)\n",
    "    \n",
    "    Interact.@map plot(xs, &ys)\n",
    "end\n",
    "   \n",
    "\n",
    "normaldist_picker()"
   ]
  }
 ],
 "metadata": {
  "kernelspec": {
   "display_name": "Julia 1.3.1",
   "language": "julia",
   "name": "julia-1.3"
  },
  "language_info": {
   "file_extension": ".jl",
   "mimetype": "application/julia",
   "name": "julia",
   "version": "1.3.1"
  }
 },
 "nbformat": 4,
 "nbformat_minor": 2
}
