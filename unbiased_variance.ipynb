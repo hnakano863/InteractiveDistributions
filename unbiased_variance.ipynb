{
 "cells": [
  {
   "cell_type": "markdown",
   "metadata": {},
   "source": [
    "# 不偏分散"
   ]
  },
  {
   "cell_type": "code",
   "execution_count": 8,
   "metadata": {},
   "outputs": [
    {
     "data": {
      "text/plain": [
       "unbiased_variance (generic function with 1 method)"
      ]
     },
     "execution_count": 8,
     "metadata": {},
     "output_type": "execute_result"
    }
   ],
   "source": [
    "function unbiased_variance(samples::Array{<:Real, 1})\n",
    "    \n",
    "    平均 = mean(samples)\n",
    "    サンプル数 = length(samples)\n",
    "    \n",
    "    二乗和 = 0\n",
    "    for サンプル in samples\n",
    "        二乗和 += (サンプル - 平均) ^ 2\n",
    "    end\n",
    "    \n",
    "    return 二乗和 / (サンプル数 - 1)\n",
    "end"
   ]
  },
  {
   "cell_type": "markdown",
   "metadata": {},
   "source": [
    "Juliaの宣伝\n",
    "\n",
    "上の関数はこう書ける"
   ]
  },
  {
   "cell_type": "code",
   "execution_count": 4,
   "metadata": {},
   "outputs": [
    {
     "data": {
      "text/plain": [
       "unbiased_variance2 (generic function with 1 method)"
      ]
     },
     "execution_count": 4,
     "metadata": {},
     "output_type": "execute_result"
    }
   ],
   "source": [
    "unbiased_variance2(s::Vector{<:Real}) = sum((s .- mean(s)).^2) / (length(s) - 1)"
   ]
  }
 ],
 "metadata": {
  "kernelspec": {
   "display_name": "Julia 1.3.1",
   "language": "julia",
   "name": "julia-1.3"
  },
  "language_info": {
   "file_extension": ".jl",
   "mimetype": "application/julia",
   "name": "julia",
   "version": "1.3.1"
  }
 },
 "nbformat": 4,
 "nbformat_minor": 4
}
